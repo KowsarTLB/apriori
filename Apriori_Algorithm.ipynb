{
  "cells": [
    {
      "cell_type": "code",
      "execution_count": 3,
      "metadata": {
        "colab": {
          "base_uri": "https://localhost:8080/"
        },
        "id": "9DXdhRoTfKhB",
        "outputId": "969c45b8-3827-486b-bfd6-a7f759a4b51a"
      },
      "outputs": [],
      "source": [
        "Transactions = input(\"Please Enter Transactions \")\n",
        "Transactions = eval(Transactions)"
      ]
    },
    {
      "cell_type": "code",
      "execution_count": 130,
      "metadata": {
        "id": "1Pqbs31-726t"
      },
      "outputs": [],
      "source": [
        "#Class_Sample: ('a','b','d','e'),('b','c','e'),('a','b','d','e'),('a','b','c','e'),('a','b','c','e','d'),('b','c','d')\n",
        "#HomeWork: ('M','O','N','K','E','Y'),('D','O','N','K','E','Y'),('M','A','K','E'),('M','U','C','K','Y'),('C','O','O','K','I','E')"
      ]
    },
    {
      "cell_type": "code",
      "execution_count": 4,
      "metadata": {
        "colab": {
          "base_uri": "https://localhost:8080/"
        },
        "id": "wqPJn2VGkau6",
        "outputId": "93d7303f-a2f5-45d9-d2d0-ba2e98d3fcaa"
      },
      "outputs": [],
      "source": [
        "min_supp = int(input(\"Please Enter Minimum Support Value \"))"
      ]
    },
    {
      "cell_type": "code",
      "execution_count": 5,
      "metadata": {
        "colab": {
          "base_uri": "https://localhost:8080/"
        },
        "id": "hotqqzzDf3bf",
        "outputId": "5ec6694e-3c03-4034-cf6c-7b06b58a3d01"
      },
      "outputs": [
        {
          "data": {
            "text/plain": [
              "(('a', 'b', 'd', 'e'),\n",
              " ('b', 'c', 'e'),\n",
              " ('a', 'b', 'd', 'e'),\n",
              " ('a', 'b', 'c', 'e'),\n",
              " ('a', 'b', 'c', 'e', 'd'),\n",
              " ('b', 'c', 'd'))"
            ]
          },
          "execution_count": 5,
          "metadata": {},
          "output_type": "execute_result"
        }
      ],
      "source": [
        "Transactions"
      ]
    },
    {
      "cell_type": "code",
      "execution_count": 6,
      "metadata": {
        "colab": {
          "base_uri": "https://localhost:8080/"
        },
        "id": "9zNDDYMZhOO4",
        "outputId": "30dbcb35-3dea-4d31-b59f-d439a25a8adf"
      },
      "outputs": [
        {
          "name": "stdout",
          "output_type": "stream",
          "text": [
            "['a', 'b', 'c', 'd', 'e']\n"
          ]
        }
      ],
      "source": [
        "Uniqe_items = set()\n",
        "for i in Transactions:\n",
        "    for j in i:\n",
        "        Uniqe_items.add(j)\n",
        "\n",
        "Uniqe_items = sorted(Uniqe_items)\n",
        "print(Uniqe_items)"
      ]
    },
    {
      "cell_type": "code",
      "execution_count": 7,
      "metadata": {
        "colab": {
          "base_uri": "https://localhost:8080/"
        },
        "id": "d4CdTnvugsaQ",
        "outputId": "a972b782-aa99-4037-a217-954a923fbf1d"
      },
      "outputs": [
        {
          "data": {
            "text/plain": [
              "{'a': 4, 'b': 6, 'c': 4, 'd': 4, 'e': 5}"
            ]
          },
          "execution_count": 7,
          "metadata": {},
          "output_type": "execute_result"
        }
      ],
      "source": [
        "Frequent_ItemSets = {}\n",
        "Count_Itemsets = {}\n",
        "for i in Uniqe_items:\n",
        "    Count_Itemsets[i] = 0\n",
        "    for j in Transactions:\n",
        "      if i in j:\n",
        "        Count_Itemsets[i]+=1\n",
        "\n",
        "Count_Itemsets\n"
      ]
    },
    {
      "cell_type": "code",
      "execution_count": 8,
      "metadata": {
        "colab": {
          "base_uri": "https://localhost:8080/"
        },
        "id": "srTtInXFkX0J",
        "outputId": "4733c3fd-108f-4c1f-873e-0fc2720d205c"
      },
      "outputs": [
        {
          "data": {
            "text/plain": [
              "{'a': 4, 'b': 6, 'c': 4, 'd': 4, 'e': 5}"
            ]
          },
          "execution_count": 8,
          "metadata": {},
          "output_type": "execute_result"
        }
      ],
      "source": [
        "for key, value in Count_Itemsets.items():\n",
        "  if value>= min_supp:\n",
        "    Frequent_ItemSets[key] = value\n",
        "\n",
        "Frequent_ItemSets"
      ]
    },
    {
      "cell_type": "code",
      "execution_count": 9,
      "metadata": {
        "colab": {
          "base_uri": "https://localhost:8080/"
        },
        "id": "Kz9LnDj7lFlT",
        "outputId": "7c5d6978-b0cc-4448-d7c6-8f868a64b6fd"
      },
      "outputs": [
        {
          "name": "stdout",
          "output_type": "stream",
          "text": [
            "Frequent Itemsets with Support Counts:\n",
            "a: 4\n",
            "b: 6\n",
            "c: 4\n",
            "d: 4\n",
            "e: 5\n",
            "('a', 'b'): 4\n",
            "('a', 'd'): 3\n",
            "('a', 'e'): 4\n",
            "('b', 'c'): 4\n",
            "('b', 'd'): 4\n",
            "('b', 'e'): 5\n",
            "('c', 'e'): 3\n",
            "('d', 'e'): 3\n",
            "('a', 'b', 'd'): 3\n",
            "('a', 'b', 'e'): 4\n",
            "('a', 'd', 'e'): 3\n",
            "('b', 'c', 'e'): 3\n",
            "('b', 'd', 'e'): 3\n",
            "('a', 'b', 'd', 'e'): 3\n"
          ]
        }
      ],
      "source": [
        "\n",
        "K = 2\n",
        "current_frequent_items = list(Frequent_ItemSets.keys())\n",
        "\n",
        "while current_frequent_items:\n",
        "    new_frequent_items = {}\n",
        "    possible_joins = []\n",
        "\n",
        "    for i in range(len(current_frequent_items)):\n",
        "        for j in range(i + 1, len(current_frequent_items)):\n",
        "            new_item = tuple(sorted(set(current_frequent_items[i] + current_frequent_items[j])))\n",
        "            if len(new_item) == K:\n",
        "                possible_joins.append(new_item)\n",
        "\n",
        "    for itemset in possible_joins:\n",
        "        new_frequent_items[itemset] = 0\n",
        "\n",
        "    for transaction in Transactions:\n",
        "        for itemset in new_frequent_items:\n",
        "            if set(itemset).issubset(transaction):\n",
        "                new_frequent_items[itemset] += 1\n",
        "\n",
        "    for key, value in new_frequent_items.items():\n",
        "        if value >= min_supp:\n",
        "            Frequent_ItemSets[key] = value\n",
        "\n",
        "    current_frequent_items = list(new_frequent_items.keys())\n",
        "    K += 1\n",
        "\n",
        "print(\"Frequent Itemsets with Support Counts:\")\n",
        "for itemset, support in Frequent_ItemSets.items():\n",
        "    print(f\"{itemset}: {support}\")\n"
      ]
    }
  ],
  "metadata": {
    "colab": {
      "provenance": []
    },
    "kernelspec": {
      "display_name": "Python 3",
      "name": "python3"
    },
    "language_info": {
      "codemirror_mode": {
        "name": "ipython",
        "version": 3
      },
      "file_extension": ".py",
      "mimetype": "text/x-python",
      "name": "python",
      "nbconvert_exporter": "python",
      "pygments_lexer": "ipython3",
      "version": "3.13.0"
    }
  },
  "nbformat": 4,
  "nbformat_minor": 0
}
