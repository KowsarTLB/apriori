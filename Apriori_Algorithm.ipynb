{
  "nbformat": 4,
  "nbformat_minor": 0,
  "metadata": {
    "colab": {
      "provenance": []
    },
    "kernelspec": {
      "name": "python3",
      "display_name": "Python 3"
    },
    "language_info": {
      "name": "python"
    }
  },
  "cells": [
    {
      "cell_type": "code",
      "execution_count": 2,
      "metadata": {
        "colab": {
          "base_uri": "https://localhost:8080/"
        },
        "id": "9DXdhRoTfKhB",
        "outputId": "6a8f5782-441f-4238-ef04-ba0ed5a86f26"
      },
      "outputs": [
        {
          "name": "stdout",
          "output_type": "stream",
          "text": [
            "Please Enter Transactions ('a','b','d','e'),('b','c','e'),('a','b','d','e'),('a','b','c','e'),('a','b','c','e','d'),('b','c','d')\n"
          ]
        }
      ],
      "source": [
        "Transactions = input(\"Please Enter Transactions \")\n",
        "Transactions = eval(Transactions)"
      ]
    },
    {
      "cell_type": "code",
      "source": [
        "#Class_Sample: ('a','b','d','e'),('b','c','e'),('a','b','d','e'),('a','b','c','e'),('a','b','c','e','d'),('b','c','d')\n",
        "#HomeWork: ('M','O','N','K','E','Y'),('D','O','N','K','E','Y'),('M','A','K','E'),('M','U','C','K','Y'),('C','O','O','K','I','E')"
      ],
      "metadata": {
        "id": "1Pqbs31-726t"
      },
      "execution_count": 3,
      "outputs": []
    },
    {
      "cell_type": "code",
      "source": [
        "min_supp = int(input(\"Please Enter Minimum Support Value \"))"
      ],
      "metadata": {
        "colab": {
          "base_uri": "https://localhost:8080/"
        },
        "id": "wqPJn2VGkau6",
        "outputId": "a26fe675-2e7e-45e5-df5c-b9cf5bba92a5"
      },
      "execution_count": 4,
      "outputs": [
        {
          "name": "stdout",
          "output_type": "stream",
          "text": [
            "Please Enter Minimum Support Value 3\n"
          ]
        }
      ]
    },
    {
      "cell_type": "code",
      "source": [
        "Transactions"
      ],
      "metadata": {
        "colab": {
          "base_uri": "https://localhost:8080/"
        },
        "id": "hotqqzzDf3bf",
        "outputId": "0390354d-d9a7-4cbf-e638-add33ae10d17"
      },
      "execution_count": 5,
      "outputs": [
        {
          "output_type": "execute_result",
          "data": {
            "text/plain": [
              "(('a', 'b', 'd', 'e'),\n",
              " ('b', 'c', 'e'),\n",
              " ('a', 'b', 'd', 'e'),\n",
              " ('a', 'b', 'c', 'e'),\n",
              " ('a', 'b', 'c', 'e', 'd'),\n",
              " ('b', 'c', 'd'))"
            ]
          },
          "metadata": {},
          "execution_count": 5
        }
      ]
    },
    {
      "cell_type": "code",
      "source": [
        "Uniqe_items = set()\n",
        "for i in Transactions:\n",
        "    for j in i:\n",
        "        Uniqe_items.add(j)\n",
        "\n",
        "Uniqe_items = sorted(Uniqe_items)\n",
        "print(Uniqe_items)"
      ],
      "metadata": {
        "colab": {
          "base_uri": "https://localhost:8080/"
        },
        "id": "9zNDDYMZhOO4",
        "outputId": "f0b4f0db-85c9-4827-9a9f-8c09918b7611"
      },
      "execution_count": 6,
      "outputs": [
        {
          "output_type": "stream",
          "name": "stdout",
          "text": [
            "['a', 'b', 'c', 'd', 'e']\n"
          ]
        }
      ]
    },
    {
      "cell_type": "code",
      "source": [
        "Frequent_ItemSets = {}\n",
        "Count_Itemsets = {}\n",
        "for i in Uniqe_items:\n",
        "    Count_Itemsets[i] = 0\n",
        "    for j in Transactions:\n",
        "      if i in j:\n",
        "        Count_Itemsets[i]+=1\n",
        "\n",
        "Count_Itemsets\n"
      ],
      "metadata": {
        "colab": {
          "base_uri": "https://localhost:8080/"
        },
        "id": "d4CdTnvugsaQ",
        "outputId": "4a2f0997-c6b7-47a6-fdc5-5cec150e2203"
      },
      "execution_count": 7,
      "outputs": [
        {
          "output_type": "execute_result",
          "data": {
            "text/plain": [
              "{'a': 4, 'b': 6, 'c': 4, 'd': 4, 'e': 5}"
            ]
          },
          "metadata": {},
          "execution_count": 7
        }
      ]
    },
    {
      "cell_type": "code",
      "source": [
        "for key, value in Count_Itemsets.items():\n",
        "  if value>= min_supp:\n",
        "    Frequent_ItemSets[key] = value\n",
        "\n",
        "Frequent_ItemSets"
      ],
      "metadata": {
        "colab": {
          "base_uri": "https://localhost:8080/"
        },
        "id": "srTtInXFkX0J",
        "outputId": "64e3ce3c-b729-478b-fd50-5a8c5849134d"
      },
      "execution_count": 8,
      "outputs": [
        {
          "output_type": "execute_result",
          "data": {
            "text/plain": [
              "{'a': 4, 'b': 6, 'c': 4, 'd': 4, 'e': 5}"
            ]
          },
          "metadata": {},
          "execution_count": 8
        }
      ]
    },
    {
      "cell_type": "code",
      "source": [
        "\n",
        "K = 2\n",
        "current_frequent_items = list(Frequent_ItemSets.keys())\n",
        "\n",
        "while current_frequent_items:\n",
        "    new_frequent_items = {}\n",
        "    possible_joins = []\n",
        "\n",
        "    for i in range(len(current_frequent_items)):\n",
        "        for j in range(i + 1, len(current_frequent_items)):\n",
        "            new_item = tuple(sorted(set(current_frequent_items[i] + current_frequent_items[j])))\n",
        "            if len(new_item) == K:\n",
        "                possible_joins.append(new_item)\n",
        "\n",
        "    for itemset in possible_joins:\n",
        "        new_frequent_items[itemset] = 0\n",
        "\n",
        "    for transaction in Transactions:\n",
        "        for itemset in new_frequent_items:\n",
        "            if set(itemset).issubset(transaction):\n",
        "                new_frequent_items[itemset] += 1\n",
        "\n",
        "    for key, value in new_frequent_items.items():\n",
        "        if value >= min_supp:\n",
        "            Frequent_ItemSets[key] = value\n",
        "\n",
        "    current_frequent_items = list(new_frequent_items.keys())\n",
        "    K += 1\n",
        "\n"
      ],
      "metadata": {
        "id": "Kz9LnDj7lFlT"
      },
      "execution_count": 9,
      "outputs": []
    },
    {
      "cell_type": "code",
      "source": [
        "print(\"Frequent Itemsets with Support Counts:\")\n",
        "for key, value in Frequent_ItemSets.items():\n",
        "    print(f\"{key}: {value}\")\n",
        "\n"
      ],
      "metadata": {
        "colab": {
          "base_uri": "https://localhost:8080/"
        },
        "id": "xqFwoZP5LdA1",
        "outputId": "22d3dff7-2098-467d-d939-fa43c07eb385"
      },
      "execution_count": 12,
      "outputs": [
        {
          "output_type": "stream",
          "name": "stdout",
          "text": [
            "Frequent Itemsets with Support Counts:\n",
            "a: 4\n",
            "b: 6\n",
            "c: 4\n",
            "d: 4\n",
            "e: 5\n",
            "('a', 'b'): 4\n",
            "('a', 'd'): 3\n",
            "('a', 'e'): 4\n",
            "('b', 'c'): 4\n",
            "('b', 'd'): 4\n",
            "('b', 'e'): 5\n",
            "('c', 'e'): 3\n",
            "('d', 'e'): 3\n",
            "('a', 'b', 'd'): 3\n",
            "('a', 'b', 'e'): 4\n",
            "('a', 'd', 'e'): 3\n",
            "('b', 'c', 'e'): 3\n",
            "('b', 'd', 'e'): 3\n",
            "('a', 'b', 'd', 'e'): 3\n"
          ]
        }
      ]
    },
    {
      "cell_type": "markdown",
      "source": [
        "# **Confidence**"
      ],
      "metadata": {
        "id": "F6mbdA40VSZG"
      }
    },
    {
      "cell_type": "code",
      "source": [
        "min_conf = float(input(\"Please Enter Minimum Confidence Value \"))"
      ],
      "metadata": {
        "id": "6p34-QkpVWlH",
        "colab": {
          "base_uri": "https://localhost:8080/"
        },
        "outputId": "12acb007-ca00-45e1-afbe-e423985ebc6d"
      },
      "execution_count": 45,
      "outputs": [
        {
          "name": "stdout",
          "output_type": "stream",
          "text": [
            "Please Enter Minimum Confidence Value 0.8\n"
          ]
        }
      ]
    },
    {
      "cell_type": "code",
      "source": [
        "from itertools import combinations\n",
        "\n",
        "elements = Frequent_ItemSets.keys()\n",
        "results = []\n",
        "for i in elements:\n",
        "  if isinstance(i,tuple) and len(i)>1:\n",
        "    for j in range(1,len(i)):\n",
        "      for TheItem in combinations(i,j):\n",
        "        AllSetExceptedTheItem = tuple(sorted(set(i) - set(TheItem)))\n",
        "        results.append(f\"{','.join(TheItem)}-->{','.join(AllSetExceptedTheItem)}\")\n"
      ],
      "metadata": {
        "id": "BIWGgcW429w_"
      },
      "execution_count": 68,
      "outputs": []
    },
    {
      "cell_type": "code",
      "source": [
        "rule_confidences = {}\n",
        "for itemset1, support_count1 in Frequent_ItemSets.items():\n",
        "    for itemset2, support_count2 in Frequent_ItemSets.items():\n",
        "        if set(itemset1).issubset(set(itemset2)) and itemset1 != itemset2:\n",
        "            TheItem = itemset1\n",
        "            AllExceptedTheItem = tuple(sorted(set(itemset2) - set(itemset1)))\n",
        "\n",
        "            TheItem_support = Frequent_ItemSets.get(TheItem, 0)\n",
        "            if TheItem_support > 0:\n",
        "                confidence = support_count2 / TheItem_support\n",
        "                rule = f\"{TheItem} --> {AllExceptedTheItem}\"\n",
        "                rule_confidences[rule] = confidence\n",
        "\n",
        "print(\"\\nAssociation Rules with Confidence:\")\n",
        "for rule, confidence in rule_confidences.items():\n",
        "    print(f\"{rule}: {confidence:.2f}\")\n"
      ],
      "metadata": {
        "colab": {
          "base_uri": "https://localhost:8080/"
        },
        "id": "DYr4JoDY8DMr",
        "outputId": "5a98e471-81ce-4232-98be-5482272e737a"
      },
      "execution_count": 88,
      "outputs": [
        {
          "output_type": "stream",
          "name": "stdout",
          "text": [
            "\n",
            "Association Rules with Confidence:\n",
            "a --> ('b',): 1.00\n",
            "a --> ('d',): 0.75\n",
            "a --> ('e',): 1.00\n",
            "a --> ('b', 'd'): 0.75\n",
            "a --> ('b', 'e'): 1.00\n",
            "a --> ('d', 'e'): 0.75\n",
            "a --> ('b', 'd', 'e'): 0.75\n",
            "b --> ('a',): 0.67\n",
            "b --> ('c',): 0.67\n",
            "b --> ('d',): 0.67\n",
            "b --> ('e',): 0.83\n",
            "b --> ('a', 'd'): 0.50\n",
            "b --> ('a', 'e'): 0.67\n",
            "b --> ('c', 'e'): 0.50\n",
            "b --> ('d', 'e'): 0.50\n",
            "b --> ('a', 'd', 'e'): 0.50\n",
            "c --> ('b',): 1.00\n",
            "c --> ('e',): 0.75\n",
            "c --> ('b', 'e'): 0.75\n",
            "d --> ('a',): 0.75\n",
            "d --> ('b',): 1.00\n",
            "d --> ('e',): 0.75\n",
            "d --> ('a', 'b'): 0.75\n",
            "d --> ('a', 'e'): 0.75\n",
            "d --> ('b', 'e'): 0.75\n",
            "d --> ('a', 'b', 'e'): 0.75\n",
            "e --> ('a',): 0.80\n",
            "e --> ('b',): 1.00\n",
            "e --> ('c',): 0.60\n",
            "e --> ('d',): 0.60\n",
            "e --> ('a', 'b'): 0.80\n",
            "e --> ('a', 'd'): 0.60\n",
            "e --> ('b', 'c'): 0.60\n",
            "e --> ('b', 'd'): 0.60\n",
            "e --> ('a', 'b', 'd'): 0.60\n",
            "('a', 'b') --> ('d',): 0.75\n",
            "('a', 'b') --> ('e',): 1.00\n",
            "('a', 'b') --> ('d', 'e'): 0.75\n",
            "('a', 'd') --> ('b',): 1.00\n",
            "('a', 'd') --> ('e',): 1.00\n",
            "('a', 'd') --> ('b', 'e'): 1.00\n",
            "('a', 'e') --> ('b',): 1.00\n",
            "('a', 'e') --> ('d',): 0.75\n",
            "('a', 'e') --> ('b', 'd'): 0.75\n",
            "('b', 'c') --> ('e',): 0.75\n",
            "('b', 'd') --> ('a',): 0.75\n",
            "('b', 'd') --> ('e',): 0.75\n",
            "('b', 'd') --> ('a', 'e'): 0.75\n",
            "('b', 'e') --> ('a',): 0.80\n",
            "('b', 'e') --> ('c',): 0.60\n",
            "('b', 'e') --> ('d',): 0.60\n",
            "('b', 'e') --> ('a', 'd'): 0.60\n",
            "('c', 'e') --> ('b',): 1.00\n",
            "('d', 'e') --> ('a',): 1.00\n",
            "('d', 'e') --> ('b',): 1.00\n",
            "('d', 'e') --> ('a', 'b'): 1.00\n",
            "('a', 'b', 'd') --> ('e',): 1.00\n",
            "('a', 'b', 'e') --> ('d',): 0.75\n",
            "('a', 'd', 'e') --> ('b',): 1.00\n",
            "('b', 'd', 'e') --> ('a',): 1.00\n"
          ]
        }
      ]
    },
    {
      "cell_type": "code",
      "source": [
        "rule_confidences"
      ],
      "metadata": {
        "colab": {
          "base_uri": "https://localhost:8080/"
        },
        "id": "7r0jA_S98HkJ",
        "outputId": "ca02fe07-b5a9-4dfd-f34e-4be53d44618d"
      },
      "execution_count": 79,
      "outputs": [
        {
          "output_type": "execute_result",
          "data": {
            "text/plain": [
              "{\"('a', 'd') --> ('b',)\": 1.0,\n",
              " \"('a', 'b') --> ('e',)\": 1.0,\n",
              " \"('a', 'e') --> ('b',)\": 1.0,\n",
              " \"('b', 'e') --> ('a',)\": 0.8,\n",
              " \"('a', 'd') --> ('e',)\": 1.0,\n",
              " \"('d', 'e') --> ('a',)\": 1.0,\n",
              " \"('c', 'e') --> ('b',)\": 1.0,\n",
              " \"('d', 'e') --> ('b',)\": 1.0,\n",
              " \"('a', 'd') --> ('b', 'e')\": 1.0,\n",
              " \"('d', 'e') --> ('a', 'b')\": 1.0,\n",
              " \"('a', 'b', 'd') --> ('e',)\": 1.0,\n",
              " \"('a', 'd', 'e') --> ('b',)\": 1.0,\n",
              " \"('b', 'd', 'e') --> ('a',)\": 1.0}"
            ]
          },
          "metadata": {},
          "execution_count": 79
        }
      ]
    }
  ]
}