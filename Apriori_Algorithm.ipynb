{
  "nbformat": 4,
  "nbformat_minor": 0,
  "metadata": {
    "colab": {
      "provenance": []
    },
    "kernelspec": {
      "name": "python3",
      "display_name": "Python 3"
    },
    "language_info": {
      "name": "python"
    }
  },
  "cells": [
    {
      "cell_type": "code",
      "execution_count": 129,
      "metadata": {
        "colab": {
          "base_uri": "https://localhost:8080/"
        },
        "id": "9DXdhRoTfKhB",
        "outputId": "969c45b8-3827-486b-bfd6-a7f759a4b51a"
      },
      "outputs": [
        {
          "name": "stdout",
          "output_type": "stream",
          "text": [
            "Please Enter Transactions  ('M','O','N','K','E','Y'),('D','O','N','K','E','Y'),('M','A','K','E'),('M','U','C','K','Y'),('C','O','O','K','I','E')\n"
          ]
        }
      ],
      "source": [
        "Transactions = input(\"Please Enter Transactions \")\n",
        "Transactions = eval(Transactions)"
      ]
    },
    {
      "cell_type": "code",
      "source": [
        "#Class_Sample: ('a','b','d','e'),('b','c','e'),('a','b','d','e'),('a','b','c','e'),('a','b','c','e','d'),('b','c','d')\n",
        "#HomeWork: ('M','O','N','K','E','Y'),('D','O','N','K','E','Y'),('M','A','K','E'),('M','U','C','K','Y'),('C','O','O','K','I','E')"
      ],
      "metadata": {
        "id": "1Pqbs31-726t"
      },
      "execution_count": 130,
      "outputs": []
    },
    {
      "cell_type": "code",
      "source": [
        "min_supp = int(input(\"Please Enter Minimum Support Value \"))"
      ],
      "metadata": {
        "colab": {
          "base_uri": "https://localhost:8080/"
        },
        "id": "wqPJn2VGkau6",
        "outputId": "93d7303f-a2f5-45d9-d2d0-ba2e98d3fcaa"
      },
      "execution_count": 131,
      "outputs": [
        {
          "name": "stdout",
          "output_type": "stream",
          "text": [
            "Please Enter Minimum Support Value 3\n"
          ]
        }
      ]
    },
    {
      "cell_type": "code",
      "source": [
        "Transactions"
      ],
      "metadata": {
        "colab": {
          "base_uri": "https://localhost:8080/"
        },
        "id": "hotqqzzDf3bf",
        "outputId": "5ec6694e-3c03-4034-cf6c-7b06b58a3d01"
      },
      "execution_count": 132,
      "outputs": [
        {
          "output_type": "execute_result",
          "data": {
            "text/plain": [
              "(('M', 'O', 'N', 'K', 'E', 'Y'),\n",
              " ('D', 'O', 'N', 'K', 'E', 'Y'),\n",
              " ('M', 'A', 'K', 'E'),\n",
              " ('M', 'U', 'C', 'K', 'Y'),\n",
              " ('C', 'O', 'O', 'K', 'I', 'E'))"
            ]
          },
          "metadata": {},
          "execution_count": 132
        }
      ]
    },
    {
      "cell_type": "code",
      "source": [
        "Uniqe_items = set()\n",
        "for i in Transactions:\n",
        "    for j in i:\n",
        "        Uniqe_items.add(j)\n",
        "\n",
        "Uniqe_items = sorted(Uniqe_items)\n",
        "print(Uniqe_items)"
      ],
      "metadata": {
        "colab": {
          "base_uri": "https://localhost:8080/"
        },
        "id": "9zNDDYMZhOO4",
        "outputId": "30dbcb35-3dea-4d31-b59f-d439a25a8adf"
      },
      "execution_count": 133,
      "outputs": [
        {
          "output_type": "stream",
          "name": "stdout",
          "text": [
            "['A', 'C', 'D', 'E', 'I', 'K', 'M', 'N', 'O', 'U', 'Y']\n"
          ]
        }
      ]
    },
    {
      "cell_type": "code",
      "source": [
        "Frequent_ItemSets = {}\n",
        "Count_Itemsets = {}\n",
        "for i in Uniqe_items:\n",
        "    Count_Itemsets[i] = 0\n",
        "    for j in Transactions:\n",
        "      if i in j:\n",
        "        Count_Itemsets[i]+=1\n",
        "\n",
        "Count_Itemsets\n"
      ],
      "metadata": {
        "colab": {
          "base_uri": "https://localhost:8080/"
        },
        "id": "d4CdTnvugsaQ",
        "outputId": "a972b782-aa99-4037-a217-954a923fbf1d"
      },
      "execution_count": 134,
      "outputs": [
        {
          "output_type": "execute_result",
          "data": {
            "text/plain": [
              "{'A': 1,\n",
              " 'C': 2,\n",
              " 'D': 1,\n",
              " 'E': 4,\n",
              " 'I': 1,\n",
              " 'K': 5,\n",
              " 'M': 3,\n",
              " 'N': 2,\n",
              " 'O': 3,\n",
              " 'U': 1,\n",
              " 'Y': 3}"
            ]
          },
          "metadata": {},
          "execution_count": 134
        }
      ]
    },
    {
      "cell_type": "code",
      "source": [
        "for key, value in Count_Itemsets.items():\n",
        "  if value>= min_supp:\n",
        "    Frequent_ItemSets[key] = value\n",
        "\n",
        "Frequent_ItemSets"
      ],
      "metadata": {
        "colab": {
          "base_uri": "https://localhost:8080/"
        },
        "id": "srTtInXFkX0J",
        "outputId": "4733c3fd-108f-4c1f-873e-0fc2720d205c"
      },
      "execution_count": 135,
      "outputs": [
        {
          "output_type": "execute_result",
          "data": {
            "text/plain": [
              "{'E': 4, 'K': 5, 'M': 3, 'O': 3, 'Y': 3}"
            ]
          },
          "metadata": {},
          "execution_count": 135
        }
      ]
    },
    {
      "cell_type": "code",
      "source": [
        "\n",
        "K = 2\n",
        "current_frequent_items = list(Frequent_ItemSets.keys())\n",
        "\n",
        "while current_frequent_items:\n",
        "    new_frequent_items = {}\n",
        "    possible_joins = []\n",
        "\n",
        "    for i in range(len(current_frequent_items)):\n",
        "        for j in range(i + 1, len(current_frequent_items)):\n",
        "            new_item = tuple(sorted(set(current_frequent_items[i] + current_frequent_items[j])))\n",
        "            if len(new_item) == K:\n",
        "                possible_joins.append(new_item)\n",
        "\n",
        "    for itemset in possible_joins:\n",
        "        new_frequent_items[itemset] = 0\n",
        "\n",
        "    for transaction in Transactions:\n",
        "        for itemset in new_frequent_items:\n",
        "            if set(itemset).issubset(transaction):\n",
        "                new_frequent_items[itemset] += 1\n",
        "\n",
        "    for key, value in new_frequent_items.items():\n",
        "        if value >= min_supp:\n",
        "            Frequent_ItemSets[key] = value\n",
        "\n",
        "    current_frequent_items = list(new_frequent_items.keys())\n",
        "    K += 1\n",
        "\n",
        "print(\"Frequent Itemsets with Support Counts:\")\n",
        "for itemset, support in Frequent_ItemSets.items():\n",
        "    print(f\"{itemset}: {support}\")\n"
      ],
      "metadata": {
        "id": "Kz9LnDj7lFlT",
        "colab": {
          "base_uri": "https://localhost:8080/"
        },
        "outputId": "7c5d6978-b0cc-4448-d7c6-8f868a64b6fd"
      },
      "execution_count": 136,
      "outputs": [
        {
          "output_type": "stream",
          "name": "stdout",
          "text": [
            "Frequent Itemsets with Support Counts:\n",
            "E: 4\n",
            "K: 5\n",
            "M: 3\n",
            "O: 3\n",
            "Y: 3\n",
            "('E', 'K'): 4\n",
            "('E', 'O'): 3\n",
            "('K', 'M'): 3\n",
            "('K', 'O'): 3\n",
            "('K', 'Y'): 3\n",
            "('E', 'K', 'O'): 3\n"
          ]
        }
      ]
    }
  ]
}